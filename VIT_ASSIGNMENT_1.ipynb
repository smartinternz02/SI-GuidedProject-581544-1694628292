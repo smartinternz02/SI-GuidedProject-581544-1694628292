{
  "nbformat": 4,
  "nbformat_minor": 0,
  "metadata": {
    "colab": {
      "provenance": []
    },
    "kernelspec": {
      "name": "python3",
      "display_name": "Python 3"
    },
    "language_info": {
      "name": "python"
    }
  },
  "cells": [
    {
      "cell_type": "code",
      "source": [
        "# Task - 1 Create a pandas dataframe (DataFrame name as 'df') with numpy random values (4 features and 4 observation)\n",
        "\n",
        "import pandas as pd\n",
        "import numpy as np\n",
        "\n",
        "data = np.random.rand(4, 4)\n",
        "\n",
        "df = pd.DataFrame(data)\n",
        "print(df)"
      ],
      "metadata": {
        "colab": {
          "base_uri": "https://localhost:8080/"
        },
        "id": "UrCUdiSO4x45",
        "outputId": "1620984a-21be-4767-b015-3f2546c52793"
      },
      "execution_count": null,
      "outputs": [
        {
          "output_type": "stream",
          "name": "stdout",
          "text": [
            "          0         1         2         3\n",
            "0  0.667512  0.052635  0.232757  0.609684\n",
            "1  0.382449  0.264420  0.128122  0.626588\n",
            "2  0.345623  0.366316  0.673590  0.412137\n",
            "3  0.417928  0.780823  0.582284  0.536341\n"
          ]
        }
      ]
    },
    {
      "cell_type": "code",
      "source": [
        "#Task - 2 Rename the task - 1 'df' dataframe column names to 'Random value 1', 'Random value 2', 'Random value 3' & 'Random value 4'\n",
        "columns = ['Random value 1', 'Random value 2', 'Random value 3', 'Random value 4']\n",
        "df = pd.DataFrame(data,columns = columns)\n",
        "print(df)"
      ],
      "metadata": {
        "colab": {
          "base_uri": "https://localhost:8080/"
        },
        "id": "j50nBQOD5snp",
        "outputId": "b71c91c0-63e2-4401-870c-7a284fbfd776"
      },
      "execution_count": null,
      "outputs": [
        {
          "output_type": "stream",
          "name": "stdout",
          "text": [
            "   Random value 1  Random value 2  Random value 3  Random value 4\n",
            "0        0.667512        0.052635        0.232757        0.609684\n",
            "1        0.382449        0.264420        0.128122        0.626588\n",
            "2        0.345623        0.366316        0.673590        0.412137\n",
            "3        0.417928        0.780823        0.582284        0.536341\n"
          ]
        }
      ]
    },
    {
      "cell_type": "code",
      "source": [
        "#Task - 3 Find the descriptive statistics of the 'df' dataframe.\n",
        "sts = df.describe()\n",
        "print(sts)"
      ],
      "metadata": {
        "colab": {
          "base_uri": "https://localhost:8080/"
        },
        "id": "f4wSOGtk6IH5",
        "outputId": "b7850e1e-17a7-418f-e5e1-50562e82f813"
      },
      "execution_count": null,
      "outputs": [
        {
          "output_type": "stream",
          "name": "stdout",
          "text": [
            "       Random value 1  Random value 2  Random value 3  Random value 4\n",
            "count        4.000000        4.000000        4.000000        4.000000\n",
            "mean         0.453378        0.366049        0.404188        0.546187\n",
            "std          0.145776        0.305829        0.264510        0.097575\n",
            "min          0.345623        0.052635        0.128122        0.412137\n",
            "25%          0.373243        0.211474        0.206598        0.505290\n",
            "50%          0.400188        0.315368        0.407520        0.573013\n",
            "75%          0.480324        0.469943        0.605110        0.613910\n",
            "max          0.667512        0.780823        0.673590        0.626588\n"
          ]
        }
      ]
    },
    {
      "cell_type": "code",
      "source": [
        "#Task-4 Check for the null values in 'df' and find the data type of the columns.\n",
        "null_values = df.isnull().sum()\n",
        "data_types = df.dtypes\n",
        "print(\"Null Values:\")\n",
        "print(null_values)\n",
        "print(\"\\nData Types\")\n",
        "print(data_types)"
      ],
      "metadata": {
        "colab": {
          "base_uri": "https://localhost:8080/"
        },
        "id": "S8JS-dsc6mA4",
        "outputId": "bb54491c-9ca8-4d40-de4b-f4d3f7fbea18"
      },
      "execution_count": null,
      "outputs": [
        {
          "output_type": "stream",
          "name": "stdout",
          "text": [
            "Null Values:\n",
            "Random value 1    0\n",
            "Random value 2    0\n",
            "Random value 3    0\n",
            "Random value 4    0\n",
            "dtype: int64\n",
            "\n",
            "Data Types\n",
            "Random value 1    float64\n",
            "Random value 2    float64\n",
            "Random value 3    float64\n",
            "Random value 4    float64\n",
            "dtype: object\n"
          ]
        }
      ]
    },
    {
      "cell_type": "code",
      "source": [
        "#Task - 5 Display the 'Random value 2' & 'Random value 3' columns with location method and index location method\n",
        "print(\"Location Method: \")\n",
        "lm = df.loc[:, ['Random value 2', 'Random value 3']]\n",
        "print(lm)\n",
        "print(\"\\nIndex Location Method: \")\n",
        "index_lm = df.iloc[:, [1, 2]]\n",
        "print(index_lm)"
      ],
      "metadata": {
        "colab": {
          "base_uri": "https://localhost:8080/"
        },
        "id": "mHrTO6Xl7Vaz",
        "outputId": "ffd14e3e-a520-4d72-d4a2-31476c4442ed"
      },
      "execution_count": null,
      "outputs": [
        {
          "output_type": "stream",
          "name": "stdout",
          "text": [
            "Location Method: \n",
            "   Random value 2  Random value 3\n",
            "0        0.052635        0.232757\n",
            "1        0.264420        0.128122\n",
            "2        0.366316        0.673590\n",
            "3        0.780823        0.582284\n",
            "\n",
            "Index Location Method: \n",
            "   Random value 2  Random value 3\n",
            "0        0.052635        0.232757\n",
            "1        0.264420        0.128122\n",
            "2        0.366316        0.673590\n",
            "3        0.780823        0.582284\n"
          ]
        }
      ]
    }
  ]
}